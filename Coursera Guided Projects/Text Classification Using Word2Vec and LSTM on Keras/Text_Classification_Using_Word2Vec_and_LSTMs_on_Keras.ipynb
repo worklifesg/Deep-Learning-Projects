{
  "nbformat": 4,
  "nbformat_minor": 0,
  "metadata": {
    "kernelspec": {
      "display_name": "Python 3",
      "language": "python",
      "name": "python3"
    },
    "language_info": {
      "codemirror_mode": {
        "name": "ipython",
        "version": 3
      },
      "file_extension": ".py",
      "mimetype": "text/x-python",
      "name": "python",
      "nbconvert_exporter": "python",
      "pygments_lexer": "ipython3",
      "version": "3.7.3"
    },
    "colab": {
      "name": "Text Classification Using Word2Vec and LSTMs on Keras Test.ipynb",
      "provenance": [],
      "collapsed_sections": [],
      "toc_visible": true,
      "machine_shape": "hm",
      "include_colab_link": true
    },
    "accelerator": "GPU"
  },
  "cells": [
    {
      "cell_type": "markdown",
      "metadata": {
        "id": "view-in-github",
        "colab_type": "text"
      },
      "source": [
        "<a href=\"https://colab.research.google.com/github/worklifesg/Deep-Learning-Projects/blob/master/Coursera%20Guided%20Projects/Text%20Classification%20Using%20Word2Vec%20and%20LSTM%20on%20Keras/Text_Classification_Using_Word2Vec_and_LSTMs_on_Keras.ipynb\" target=\"_parent\"><img src=\"https://colab.research.google.com/assets/colab-badge.svg\" alt=\"Open In Colab\"/></a>"
      ]
    },
    {
      "cell_type": "markdown",
      "metadata": {
        "id": "iDUoLuA8Ww1C"
      },
      "source": [
        "**Sentiment classification** is the automated process of identifying opinions in text and labeling them as positive, negative, or neutral, based on the emotions customers express within them.\n",
        "![movie_reviews.jpg](attachment:movie_reviews.jpg)"
      ]
    },
    {
      "cell_type": "markdown",
      "metadata": {
        "id": "gJ9g4k4GWw1C"
      },
      "source": [
        "**Transfer learning** is a machine learning method where a model developed for a task is reused as the starting point for a model on a second task!\n",
        "\n",
        "**Word Embeddings** Definition Word embeddings are a type of word representation that look at the context of words which allows words with similar meaning to have a similar vector representation.\n",
        "\n",
        "\n",
        "1. Each word is represented as  a vector.\n",
        "\n",
        "2. Each word is mapped to one vector and the vector values are learned in a way that resembles a neural network.\n",
        "\n",
        "3. They can be considered an improvement over sparse representations used in simpler bag of word model representations.\n",
        "\n",
        "**Word2Vec**\n",
        "\n",
        "Word2Vec is a shallow, two-layer neural networks which is trained to reconstruct linguistic contexts of words.\n",
        "Input: Large Corpus of words\n",
        "\n",
        "\n",
        "Output: Vector Space, with each unique word in the corpus being assigned a corresponding vector in the space.\n",
        "\n",
        "\n",
        "Word vectors are positioned in the vector space such that words that share common contexts in the corpus are located in close proximity to one another in the space.\n",
        "\n",
        "\n",
        "**Deep Network** Deep network takes the sequence of embedding vectors as input and converts them to a compressed representation. The compressed representation effectively captures all the information in the sequence of words in the text. The deep neywrok part is usually an RNN or some forms of it like LSTM/GRU. The dropout is added to overcome the tendency to overfit, a very common problem with RNN based networks.\n",
        "\n",
        "**Recurrent Neural Networks** Recurrent Neural Networks are used to handle sequential data. One of the appeals of RNNs is the idea that they might be able to connect previous information to the present task, such as using previous video frames/words might inform the understanding of the present frame/words. \n",
        "\n",
        "\n",
        "Sometimes, we only need to look at recent information to perform the present task. But Unfortunately, as that gap grows, RNNs become unable to learn to connect the information.\n",
        "\n",
        "Standard RNNs fail to learn in the presence of time lags greater than 5 – 10 discrete time steps between relevant input events and target signals. The vanishing error problem casts doubt on whether standard RNNs can indeed exhibit significant practical advantages over time window-based feedforward networks. A recent model, “Long Short-Term Memory” (LSTM), is not affected by this problem. LSTM can learn to bridge minimal time lags in excess of 1000 discrete time steps by enforcing constant error flow through “constant error carrousels” (CECs) within special units, called cells\n",
        "\n",
        "**LSTM** Long Short Term Memory networks – usually just called “LSTMs” – are a special kind of RNN, capable of learning long-term dependencies. LSTMs are explicitly designed to avoid the long-term dependency problem. Remembering information for long periods of time is practically their default behavior, not something they struggle to learn!\n",
        "\n",
        "![lstm_cropped.png](attachment:lstm_cropped.png)"
      ]
    },
    {
      "cell_type": "markdown",
      "metadata": {
        "id": "nDWdEzBDZuaY"
      },
      "source": [
        "1. Pre-processing Data for Word2Vec Model"
      ]
    },
    {
      "cell_type": "code",
      "metadata": {
        "id": "jAwPDutmWw1C",
        "colab": {
          "base_uri": "https://localhost:8080/"
        },
        "outputId": "a096ceed-0842-4f66-dcb6-0afd328ed8d5"
      },
      "source": [
        "import matplotlib.pyplot as plt\n",
        "import pandas as pd\n",
        "import os\n",
        "import numpy as np\n",
        "import nltk\n",
        "import string\n",
        "from gensim.models import Word2Vec\n",
        "from nltk.tokenize import word_tokenize\n",
        "from nltk.corpus import stopwords\n",
        "nltk.download('stopwords')\n",
        "nltk.download('punkt')"
      ],
      "execution_count": 1,
      "outputs": [
        {
          "output_type": "stream",
          "text": [
            "[nltk_data] Downloading package stopwords to /root/nltk_data...\n",
            "[nltk_data]   Package stopwords is already up-to-date!\n",
            "[nltk_data] Downloading package punkt to /root/nltk_data...\n",
            "[nltk_data]   Package punkt is already up-to-date!\n"
          ],
          "name": "stdout"
        },
        {
          "output_type": "execute_result",
          "data": {
            "text/plain": [
              "True"
            ]
          },
          "metadata": {
            "tags": []
          },
          "execution_count": 1
        }
      ]
    },
    {
      "cell_type": "markdown",
      "metadata": {
        "id": "udxocPNsWw1D"
      },
      "source": [
        "## Loading Data "
      ]
    },
    {
      "cell_type": "code",
      "metadata": {
        "id": "nyolFa3pWw1D",
        "colab": {
          "base_uri": "https://localhost:8080/",
          "height": 206
        },
        "outputId": "7768f2a2-83e1-4d74-e451-3e12ffa0ad5d"
      },
      "source": [
        "df = pd.read_csv('IMDB_movie_reviews.csv',encoding='utf-8')\n",
        "df.head()"
      ],
      "execution_count": 2,
      "outputs": [
        {
          "output_type": "execute_result",
          "data": {
            "text/html": [
              "<div>\n",
              "<style scoped>\n",
              "    .dataframe tbody tr th:only-of-type {\n",
              "        vertical-align: middle;\n",
              "    }\n",
              "\n",
              "    .dataframe tbody tr th {\n",
              "        vertical-align: top;\n",
              "    }\n",
              "\n",
              "    .dataframe thead th {\n",
              "        text-align: right;\n",
              "    }\n",
              "</style>\n",
              "<table border=\"1\" class=\"dataframe\">\n",
              "  <thead>\n",
              "    <tr style=\"text-align: right;\">\n",
              "      <th></th>\n",
              "      <th>review</th>\n",
              "      <th>sentiment</th>\n",
              "    </tr>\n",
              "  </thead>\n",
              "  <tbody>\n",
              "    <tr>\n",
              "      <th>0</th>\n",
              "      <td>I went and saw this movie last night after bei...</td>\n",
              "      <td>1</td>\n",
              "    </tr>\n",
              "    <tr>\n",
              "      <th>1</th>\n",
              "      <td>Actor turned director Bill Paxton follows up h...</td>\n",
              "      <td>1</td>\n",
              "    </tr>\n",
              "    <tr>\n",
              "      <th>2</th>\n",
              "      <td>As a recreational golfer with some knowledge o...</td>\n",
              "      <td>1</td>\n",
              "    </tr>\n",
              "    <tr>\n",
              "      <th>3</th>\n",
              "      <td>I saw this film in a sneak preview, and it is ...</td>\n",
              "      <td>1</td>\n",
              "    </tr>\n",
              "    <tr>\n",
              "      <th>4</th>\n",
              "      <td>Bill Paxton has taken the true story of the 19...</td>\n",
              "      <td>1</td>\n",
              "    </tr>\n",
              "  </tbody>\n",
              "</table>\n",
              "</div>"
            ],
            "text/plain": [
              "                                              review  sentiment\n",
              "0  I went and saw this movie last night after bei...          1\n",
              "1  Actor turned director Bill Paxton follows up h...          1\n",
              "2  As a recreational golfer with some knowledge o...          1\n",
              "3  I saw this film in a sneak preview, and it is ...          1\n",
              "4  Bill Paxton has taken the true story of the 19...          1"
            ]
          },
          "metadata": {
            "tags": []
          },
          "execution_count": 2
        }
      ]
    },
    {
      "cell_type": "markdown",
      "metadata": {
        "id": "b3xZxz-uWw1D"
      },
      "source": [
        "\n",
        "# Data Preprocessing\n",
        "\n",
        "1. **Tokenization** is a way of separating a piece of text into smaller units called tokens. Here, tokens can be either words, characters, or subwords.\n",
        "\n",
        "2. Removing **Punctuations**\n",
        "\n",
        "3. Removing tokens which are not alphabetic\n",
        "\n",
        "4. **Stopwords Removal**: A stop word is a commonly used word (such as “the”, “a”, “an”, “in”) \n",
        "\n",
        "\n"
      ]
    },
    {
      "cell_type": "code",
      "metadata": {
        "id": "2HTJ123ZWw1D"
      },
      "source": [
        "import string\n",
        "from nltk.tokenize import word_tokenize\n",
        "from nltk.corpus import stopwords\n",
        "\n",
        "review_lines = list()\n",
        "\n",
        "lines = df['review'].values.tolist() #convert lines to a list\n",
        "\n",
        "for line in lines: #this loop will tokenize, strip the punctuation, remove token that are not alphabetic, remove stop words also\n",
        "  tokens = word_tokenize(line)\n",
        "  tokens = [word.lower() for word in tokens] #lower case for each word\n",
        "\n",
        "  table = str.maketrans('','',string.punctuation) #punctuations in a string\n",
        "  stripped = [w.translate(table) for w in tokens] #strip the punctuation\n",
        "\n",
        "  words = [word for word in stripped if word.isalpha()] #removing tokens that are not alphabets\n",
        "  \n",
        "  \n",
        "  stop_words = set(stopwords.words('english')) #all repeated stop words in english corpus\n",
        "  words = [w for w in words if not w in stop_words]\n",
        "\n",
        "  review_lines.append(words)"
      ],
      "execution_count": 3,
      "outputs": []
    },
    {
      "cell_type": "markdown",
      "metadata": {
        "id": "RpTLkITnWw1D"
      },
      "source": [
        "**Word2Vec** is a simple Neural Network with one hidden layer & has weights and during training, its goal is to adjust those weights to reduce the loss function.\n",
        "\n",
        "During the training, weights are adjusted through back-propagation. Once the training is completed, instead of taking the entire model, we just take the **hidden weights** which are our word embeddings.\n",
        "\n",
        "Word vectors are positioned in the vector space such that words that share common contexts in the corpus are located in close proximity to one another in the space.\n",
        "\n",
        "Gensim is an Open Source Python Library which can be used to implement Word2Vec."
      ]
    },
    {
      "cell_type": "code",
      "metadata": {
        "id": "hBfSK5r6Ww1D",
        "colab": {
          "base_uri": "https://localhost:8080/"
        },
        "outputId": "ce7e6417-63a3-49b1-ba69-904f8aaa5efc"
      },
      "source": [
        "import gensim\n",
        "\n",
        "embedding_dim = 100 #specify dimensions of embeddings\n",
        "\n",
        "model = gensim.models.Word2Vec(sentences=review_lines,\\\n",
        "                               size=embedding_dim, window=5,\\\n",
        "                               min_count=1) #list of sentances (tokens)\n",
        "words = list(model.wv.vocab) #vocab size\n",
        "\n",
        "print('Vocabulary size: %d' % len(words))"
      ],
      "execution_count": 4,
      "outputs": [
        {
          "output_type": "stream",
          "text": [
            "Vocabulary size: 134156\n"
          ],
          "name": "stdout"
        }
      ]
    },
    {
      "cell_type": "markdown",
      "metadata": {
        "id": "ucELtx0eWw1D"
      },
      "source": [
        "**Saving** the word2vec model in ASCII (word2vec) format"
      ]
    },
    {
      "cell_type": "code",
      "metadata": {
        "id": "IypyOqLZWw1D"
      },
      "source": [
        ""
      ],
      "execution_count": null,
      "outputs": []
    },
    {
      "cell_type": "markdown",
      "metadata": {
        "id": "HKvjv0nYWw1D"
      },
      "source": [
        "Lets test our Word2Vec Model to see how it performs using utility functions provided in Gensim"
      ]
    },
    {
      "cell_type": "code",
      "metadata": {
        "id": "l8EOsPLcWw1D",
        "colab": {
          "base_uri": "https://localhost:8080/"
        },
        "outputId": "0d791f24-dcae-4111-cfaa-1296ed226aa0"
      },
      "source": [
        "model.wv.most_similar('director')"
      ],
      "execution_count": 5,
      "outputs": [
        {
          "output_type": "stream",
          "text": [
            "/usr/local/lib/python3.6/dist-packages/gensim/matutils.py:737: FutureWarning: Conversion of the second argument of issubdtype from `int` to `np.signedinteger` is deprecated. In future, it will be treated as `np.int64 == np.dtype(int).type`.\n",
            "  if np.issubdtype(vec.dtype, np.int):\n"
          ],
          "name": "stderr"
        },
        {
          "output_type": "execute_result",
          "data": {
            "text/plain": [
              "[('filmmaker', 0.7549102902412415),\n",
              " ('screenwriter', 0.6730122566223145),\n",
              " ('altman', 0.6559675335884094),\n",
              " ('directors', 0.649754524230957),\n",
              " ('writerdirector', 0.6488274335861206),\n",
              " ('filmmakers', 0.6135684847831726),\n",
              " ('writer', 0.6127024292945862),\n",
              " ('vipul', 0.6088660359382629),\n",
              " ('harlin', 0.6086643934249878),\n",
              " ('lumet', 0.6014989614486694)]"
            ]
          },
          "metadata": {
            "tags": []
          },
          "execution_count": 5
        }
      ]
    },
    {
      "cell_type": "markdown",
      "metadata": {
        "id": "8s5hsNibWw1D"
      },
      "source": [
        "Let’s see the result of semantically reasonable word vectors (actress - actor + heroine)\n"
      ]
    },
    {
      "cell_type": "code",
      "metadata": {
        "id": "UGsx2wQsWw1D",
        "colab": {
          "base_uri": "https://localhost:8080/"
        },
        "outputId": "6bf0a53b-8773-4b3c-c697-50e7d5e7e7c2"
      },
      "source": [
        "model.wv.most_similar(positive=['actress','heroine'],\\\n",
        "                      negative=['actor'])"
      ],
      "execution_count": 6,
      "outputs": [
        {
          "output_type": "stream",
          "text": [
            "/usr/local/lib/python3.6/dist-packages/gensim/matutils.py:737: FutureWarning: Conversion of the second argument of issubdtype from `int` to `np.signedinteger` is deprecated. In future, it will be treated as `np.int64 == np.dtype(int).type`.\n",
            "  if np.issubdtype(vec.dtype, np.int):\n"
          ],
          "name": "stderr"
        },
        {
          "output_type": "execute_result",
          "data": {
            "text/plain": [
              "[('protagonist', 0.7381014823913574),\n",
              " ('damsel', 0.7154332399368286),\n",
              " ('sexually', 0.7131143808364868),\n",
              " ('seductive', 0.7071361541748047),\n",
              " ('vulnerable', 0.7019208669662476),\n",
              " ('stepmother', 0.7014776468276978),\n",
              " ('jealousy', 0.6959023475646973),\n",
              " ('nurse', 0.6927211880683899),\n",
              " ('housewife', 0.6799091100692749),\n",
              " ('lesbian', 0.6791645288467407)]"
            ]
          },
          "metadata": {
            "tags": []
          },
          "execution_count": 6
        }
      ]
    },
    {
      "cell_type": "markdown",
      "metadata": {
        "id": "nv6ljvroWw1D"
      },
      "source": [
        "**Odd One out** - Finding the odd word out of the given list of words"
      ]
    },
    {
      "cell_type": "code",
      "metadata": {
        "id": "s_dz33kTWw1D",
        "colab": {
          "base_uri": "https://localhost:8080/"
        },
        "outputId": "dab8b5d8-b105-4429-f343-300ac4fa59c8"
      },
      "source": [
        "print(model.wv.doesnt_match('film movie theatre tea'.split()))"
      ],
      "execution_count": 7,
      "outputs": [
        {
          "output_type": "stream",
          "text": [
            "tea\n"
          ],
          "name": "stdout"
        },
        {
          "output_type": "stream",
          "text": [
            "/usr/local/lib/python3.6/dist-packages/gensim/models/keyedvectors.py:895: FutureWarning: arrays to stack must be passed as a \"sequence\" type such as list or tuple. Support for non-sequence iterables such as generators is deprecated as of NumPy 1.16 and will raise an error in the future.\n",
            "  vectors = vstack(self.word_vec(word, use_norm=True) for word in used_words).astype(REAL)\n",
            "/usr/local/lib/python3.6/dist-packages/gensim/matutils.py:737: FutureWarning: Conversion of the second argument of issubdtype from `int` to `np.signedinteger` is deprecated. In future, it will be treated as `np.int64 == np.dtype(int).type`.\n",
            "  if np.issubdtype(vec.dtype, np.int):\n"
          ],
          "name": "stderr"
        }
      ]
    },
    {
      "cell_type": "markdown",
      "metadata": {
        "id": "s_cIyEsVWw1D"
      },
      "source": [
        "## Save model in ASCII (word2vec) format"
      ]
    },
    {
      "cell_type": "code",
      "metadata": {
        "id": "UH6SnM8kWw1D"
      },
      "source": [
        "filename = 'imdb_embedding_word2vec_result.txt'\n",
        "\n",
        "model.wv.save_word2vec_format(filename,binary=False)"
      ],
      "execution_count": 8,
      "outputs": []
    },
    {
      "cell_type": "markdown",
      "metadata": {
        "id": "_nzBffMbWw1D"
      },
      "source": [
        "## Load the embeddings from the file into a dictionary"
      ]
    },
    {
      "cell_type": "code",
      "metadata": {
        "id": "U4Ie9wOCWw1D"
      },
      "source": [
        "import os\n",
        "embedding_index = {} #embeddings in a dict\n",
        "\n",
        "f = open('imdb_embedding_word2vec_result.txt',encoding='utf-8')\n",
        "\n",
        "for line in f:\n",
        "  values = line.split() #split each line\n",
        "  word = values[0] #first vector is always word\n",
        "  coefs = np.asarray(values[1:])\n",
        "\n",
        "  embedding_index[word]=coefs\n",
        "f.close()  "
      ],
      "execution_count": 9,
      "outputs": []
    },
    {
      "cell_type": "markdown",
      "metadata": {
        "id": "j1j8OfFzWw1D"
      },
      "source": [
        "**Tokenization** is a way of separating a piece of text into smaller units called tokens. Here, tokens can be either words, characters, or subwords. \n",
        "\n",
        "**Padding** All the neural networks require to have inputs that have the same shape and size. However, when we pre-process and use the texts as inputs for our model e.g. LSTM, not all the sentences have the same length. In other words, naturally, some of the sentences are longer or shorter. We need to have the inputs with the same size, this is where the padding is necessary.\n",
        "\n",
        "**Splitting the data** "
      ]
    },
    {
      "cell_type": "code",
      "metadata": {
        "id": "cH2NWNzmWw1D",
        "colab": {
          "base_uri": "https://localhost:8080/"
        },
        "outputId": "d6fb383a-79b0-4708-89fe-57ac538f330a"
      },
      "source": [
        "from tensorflow.python.keras.preprocessing.text import Tokenizer\n",
        "from tensorflow.python.keras.preprocessing.sequence import pad_sequences\n",
        "import numpy as np\n",
        "\n",
        "validation_split = 0.2\n",
        "\n",
        "tokenizer_obj = Tokenizer()\n",
        "tokenizer_obj.fit_on_texts(review_lines)\n",
        "\n",
        "sequences = tokenizer_obj.texts_to_sequences(review_lines)\n",
        "\n",
        "# to keep text constant, we will pad them with extra zeros (we will keep max 100)\n",
        "\n",
        "max_length = 100\n",
        "\n",
        "word_index = tokenizer_obj.word_index\n",
        "\n",
        "review_pad = pad_sequences(sequences,maxlen=max_length)\n",
        "sentiment = df['sentiment'].values\n",
        "\n",
        "print(review_pad.shape)\n",
        "print(sentiment.shape)\n",
        "\n",
        "indices = np.arange(review_pad.shape[0]) #shuffle data before spliting\n",
        "np.random.shuffle(indices)\n",
        "\n",
        "review_pad = review_pad[indices]\n",
        "sentiment = sentiment[indices]\n",
        "\n",
        "num_validation_samples = int(validation_split*review_pad.shape[0])\n",
        "\n",
        "x_val_pad = review_pad[:num_validation_samples]\n",
        "y_val_pad = sentiment[:num_validation_samples]\n",
        "\n",
        "X_train_pad = review_pad[num_validation_samples:]\n",
        "y_train = sentiment[num_validation_samples:]"
      ],
      "execution_count": 10,
      "outputs": [
        {
          "output_type": "stream",
          "text": [
            "(50000, 100)\n",
            "(50000,)\n"
          ],
          "name": "stdout"
        }
      ]
    },
    {
      "cell_type": "markdown",
      "metadata": {
        "id": "cixfgn73Ww1D"
      },
      "source": [
        "## Splitting Train data further into Train & Test Sets"
      ]
    },
    {
      "cell_type": "code",
      "metadata": {
        "id": "DgOoxXf3Ww1D"
      },
      "source": [
        "test_split = 0.1\n",
        "\n",
        "num_test_samples = int(test_split*X_train_pad.shape[0])\n",
        "X_test_pad = X_train_pad[:num_test_samples]\n",
        "y_test = y_train[:num_test_samples]\n",
        "\n",
        "X_train_pad = X_train_pad[num_test_samples:]\n",
        "y_train = y_train[num_test_samples:]"
      ],
      "execution_count": 11,
      "outputs": []
    },
    {
      "cell_type": "code",
      "metadata": {
        "id": "6xKRTDbAWw1D",
        "colab": {
          "base_uri": "https://localhost:8080/"
        },
        "outputId": "621f9585-806b-4638-b18a-9f8589dd1d0e"
      },
      "source": [
        "print(X_train_pad.shape)\n",
        "print(y_train.shape)\n",
        "\n",
        "print(x_val_pad.shape)\n",
        "print(y_val_pad.shape)\n",
        "\n",
        "print(X_test_pad.shape)\n",
        "print(y_test.shape)"
      ],
      "execution_count": 12,
      "outputs": [
        {
          "output_type": "stream",
          "text": [
            "(36000, 100)\n",
            "(36000,)\n",
            "(10000, 100)\n",
            "(10000,)\n",
            "(4000, 100)\n",
            "(4000,)\n"
          ],
          "name": "stdout"
        }
      ]
    },
    {
      "cell_type": "markdown",
      "metadata": {
        "id": "yFaPGzidWw1D"
      },
      "source": [
        "## Creating an Embedding Matrix"
      ]
    },
    {
      "cell_type": "code",
      "metadata": {
        "id": "Bu17umMvWw1D"
      },
      "source": [
        "#transforming embeddings (dictioanry) into matrix as Keras accept it.\n",
        "\n",
        "embedding_dim = 100\n",
        "\n",
        "num_words = len(word_index) + 1\n",
        "embedding_matrix = np.zeros((num_words,embedding_dim))\n",
        "\n",
        "for word, i in word_index.items(): #for each word and its values\n",
        "  if i > num_words:\n",
        "    continue\n",
        "  embedding_vector = embedding_index.get(word)\n",
        "\n",
        "  if embedding_vector is not None:\n",
        "    embedding_matrix[i] = embedding_vector"
      ],
      "execution_count": 13,
      "outputs": []
    },
    {
      "cell_type": "markdown",
      "metadata": {
        "id": "Lfyofdd3Ww1D"
      },
      "source": [
        "## Training \n",
        "\n",
        "Defining the Model\n",
        "\n",
        "In Keras, A **Sequential model** is appropriate for a plain stack of layers where each layer has exactly one input tensor and one output tensor.\n",
        "1. Load pre-trained word embeddings into an Embedding layer\n",
        "\n",
        "2. Adding LSTM Layer\n",
        "\n",
        "3. Adding Dense Layer\n",
        "\n",
        "**model.compile** used to Configures the model for training.\n",
        "\n",
        "\n",
        "**model.add()** function is used to add layers to our model."
      ]
    },
    {
      "cell_type": "code",
      "metadata": {
        "id": "LTHMxEoFWw1D",
        "colab": {
          "base_uri": "https://localhost:8080/"
        },
        "outputId": "332147e6-ef47-4818-fc26-561b24bec93f"
      },
      "source": [
        "from keras.models import Sequential\n",
        "from keras.layers import Dense, Embedding, LSTM\n",
        "from keras.layers.embeddings import Embedding\n",
        "from keras.initializers import Constant\n",
        "\n",
        "model = Sequential()\n",
        "\n",
        "embedding_layer = Embedding(num_words,\n",
        "                            embedding_dim,\n",
        "                            embeddings_initializer=Constant(embedding_matrix),\n",
        "                            input_length=max_length,\n",
        "                            trainable=False)\n",
        "\n",
        "model.add(embedding_layer)\n",
        "model.add(LSTM(units=32, dropout=0.2, recurrent_dropout=0.2 )) #dropout to deactivate some of the neurons to make sure that it doesn't overfit model at every epoch \n",
        "model.add(Dense(1,activation='sigmoid'))\n",
        "\n",
        "model.compile(loss='binary_crossentropy',optimizer='adam',metrics=['accuracy'])\n",
        "\n",
        "print('Summary of the built model..')\n",
        "\n",
        "print(model.summary())"
      ],
      "execution_count": 14,
      "outputs": [
        {
          "output_type": "stream",
          "text": [
            "WARNING:tensorflow:Layer lstm will not use cuDNN kernel since it doesn't meet the cuDNN kernel criteria. It will use generic GPU kernel as fallback when running on GPU\n",
            "Summary of the built model..\n",
            "Model: \"sequential\"\n",
            "_________________________________________________________________\n",
            "Layer (type)                 Output Shape              Param #   \n",
            "=================================================================\n",
            "embedding (Embedding)        (None, 100, 100)          13415700  \n",
            "_________________________________________________________________\n",
            "lstm (LSTM)                  (None, 32)                17024     \n",
            "_________________________________________________________________\n",
            "dense (Dense)                (None, 1)                 33        \n",
            "=================================================================\n",
            "Total params: 13,432,757\n",
            "Trainable params: 17,057\n",
            "Non-trainable params: 13,415,700\n",
            "_________________________________________________________________\n",
            "None\n"
          ],
          "name": "stdout"
        }
      ]
    },
    {
      "cell_type": "markdown",
      "metadata": {
        "id": "iCcYtu-FWw1D"
      },
      "source": [
        "## Training the Model\n",
        "\n",
        "Use the .fit method.\n",
        "\n",
        "Assign the model.fit() method to a variable, which will store the Training, Validation Loss and Accuracy for each epoch. "
      ]
    },
    {
      "cell_type": "code",
      "metadata": {
        "id": "Uk6iaQFYWw1D",
        "colab": {
          "base_uri": "https://localhost:8080/"
        },
        "outputId": "937de264-6dee-4395-ceae-aea7c499fa13"
      },
      "source": [
        "history = model.fit(X_train_pad,y_train,batch_size=128,epochs=10, \\\n",
        "                    validation_data=(x_val_pad,y_val_pad),verbose=2)"
      ],
      "execution_count": 15,
      "outputs": [
        {
          "output_type": "stream",
          "text": [
            "Epoch 1/10\n",
            "282/282 - 88s - loss: 0.4790 - accuracy: 0.7641 - val_loss: 0.3940 - val_accuracy: 0.8310\n",
            "Epoch 2/10\n",
            "282/282 - 89s - loss: 0.3737 - accuracy: 0.8363 - val_loss: 0.3449 - val_accuracy: 0.8476\n",
            "Epoch 3/10\n",
            "282/282 - 88s - loss: 0.3470 - accuracy: 0.8492 - val_loss: 0.3300 - val_accuracy: 0.8595\n",
            "Epoch 4/10\n",
            "282/282 - 90s - loss: 0.3280 - accuracy: 0.8565 - val_loss: 0.3172 - val_accuracy: 0.8644\n",
            "Epoch 5/10\n",
            "282/282 - 89s - loss: 0.3189 - accuracy: 0.8621 - val_loss: 0.3217 - val_accuracy: 0.8624\n",
            "Epoch 6/10\n",
            "282/282 - 89s - loss: 0.3081 - accuracy: 0.8663 - val_loss: 0.3066 - val_accuracy: 0.8706\n",
            "Epoch 7/10\n",
            "282/282 - 88s - loss: 0.3011 - accuracy: 0.8693 - val_loss: 0.3007 - val_accuracy: 0.8734\n",
            "Epoch 8/10\n",
            "282/282 - 88s - loss: 0.2949 - accuracy: 0.8731 - val_loss: 0.3026 - val_accuracy: 0.8736\n",
            "Epoch 9/10\n",
            "282/282 - 89s - loss: 0.2881 - accuracy: 0.8765 - val_loss: 0.2953 - val_accuracy: 0.8775\n",
            "Epoch 10/10\n",
            "282/282 - 89s - loss: 0.2825 - accuracy: 0.8806 - val_loss: 0.3007 - val_accuracy: 0.8781\n"
          ],
          "name": "stdout"
        }
      ]
    },
    {
      "cell_type": "markdown",
      "metadata": {
        "id": "-uAtSDRCWw1D"
      },
      "source": [
        "## Evaluating the Model on Test Set\n",
        "\n",
        "**Score** is the evaluation of the loss function for a given input.\n",
        "\n",
        "**Accuracy** How accurate your model's prediction is compared to the true data.\n"
      ]
    },
    {
      "cell_type": "code",
      "metadata": {
        "id": "8uNQp9MUWw1E",
        "colab": {
          "base_uri": "https://localhost:8080/"
        },
        "outputId": "d545f7c5-79f8-4a6c-aa5d-6be3e3c13dce"
      },
      "source": [
        "score, acc = model.evaluate(X_test_pad,y_test,batch_size=128)\n",
        "\n",
        "print('Test Score: ', score)\n",
        "print('Test accuracy: ',acc)"
      ],
      "execution_count": 16,
      "outputs": [
        {
          "output_type": "stream",
          "text": [
            "32/32 [==============================] - 1s 29ms/step - loss: 0.3100 - accuracy: 0.8692\n",
            "Test Score:  0.31002792716026306\n",
            "Test accuracy:  0.8692499995231628\n"
          ],
          "name": "stdout"
        }
      ]
    },
    {
      "cell_type": "markdown",
      "metadata": {
        "id": "87p_-WlgWw1E"
      },
      "source": [
        "## Plotting the Accuracy and Loss "
      ]
    },
    {
      "cell_type": "code",
      "metadata": {
        "id": "mI8qPjIyWw1E",
        "colab": {
          "base_uri": "https://localhost:8080/",
          "height": 592
        },
        "outputId": "7ba614a4-af40-45fb-e70b-201335abaf17"
      },
      "source": [
        "print(history.history.keys()) #stores history of model , it has dict keys\n",
        "\n",
        "plt.plot(history.history['accuracy'])\n",
        "plt.plot(history.history['val_accuracy'])\n",
        "plt.title('Model accuracy')\n",
        "plt.xlabel('Accuracy')\n",
        "plt.ylabel('Epoch')\n",
        "\n",
        "plt.legend(['train','validation'],loc='upper left')\n",
        "plt.show()\n",
        "\n",
        "plt.plot(history.history['loss'])\n",
        "plt.plot(history.history['val_loss'])\n",
        "plt.title('Model accuracy')\n",
        "plt.xlabel('Accuracy')\n",
        "plt.ylabel('Epoch')\n",
        "\n",
        "plt.legend(['train','validation'],loc='upper left')\n",
        "plt.show()"
      ],
      "execution_count": 17,
      "outputs": [
        {
          "output_type": "stream",
          "text": [
            "dict_keys(['loss', 'accuracy', 'val_loss', 'val_accuracy'])\n"
          ],
          "name": "stdout"
        },
        {
          "output_type": "display_data",
          "data": {
            "image/png": "[encoded data removed]",
            "text/plain": [
              "<Figure size 432x288 with 1 Axes>"
            ]
          },
          "metadata": {
            "tags": [],
            "needs_background": "light"
          }
        },
        {
          "output_type": "display_data",
          "data": {
            "image/png": "[encoded data removed]",
            "text/plain": [
              "<Figure size 432x288 with 1 Axes>"
            ]
          },
          "metadata": {
            "tags": [],
            "needs_background": "light"
          }
        }
      ]
    },
    {
      "cell_type": "markdown",
      "metadata": {
        "id": "DR71XYs8Ww1E"
      },
      "source": [
        "## Testing the Model on Sample data\n"
      ]
    },
    {
      "cell_type": "code",
      "metadata": {
        "id": "4geyI52dWw1E",
        "colab": {
          "base_uri": "https://localhost:8080/"
        },
        "outputId": "14786ec7-294f-4454-d3b9-0a49780ff38c"
      },
      "source": [
        "test_sample_1 = 'The movie was fantastic! I like it !'\n",
        "test_sample_2 = 'Not a great movie, it was really bad..'\n",
        "test_samples = [test_sample_1,test_sample_2]\n",
        "\n",
        "test_samples_tokens = tokenizer_obj.texts_to_sequences(test_samples)\n",
        "test_samples_tokens_pad = pad_sequences(test_samples_tokens,maxlen=100)\n",
        "\n",
        "model.predict(x=test_samples_tokens_pad)"
      ],
      "execution_count": 18,
      "outputs": [
        {
          "output_type": "execute_result",
          "data": {
            "text/plain": [
              "array([[0.91536766],\n",
              "       [0.3439894 ]], dtype=float32)"
            ]
          },
          "metadata": {
            "tags": []
          },
          "execution_count": 18
        }
      ]
    },
    {
      "cell_type": "code",
      "metadata": {
        "id": "ZNpSbjZ6_ANT"
      },
      "source": [
        ""
      ],
      "execution_count": null,
      "outputs": []
    }
  ]
}